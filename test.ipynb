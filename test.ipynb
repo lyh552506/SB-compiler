{
 "cells": [
  {
   "cell_type": "code",
   "execution_count": 19,
   "metadata": {},
   "outputs": [
    {
     "name": "stdout",
     "output_type": "stream",
     "text": [
      "Compiler Error: Total: 0\n",
      "Runtime Error: Total: 0\n",
      "Timeout Error: Total: 0\n",
      "Wrong Answer: Total: 1\n",
      "Bad Test: Total: 62\n",
      "Accepted: Total: 147\n"
     ]
    }
   ],
   "source": [
    "# Now I want write a test script to test all testcases in testcases folder\n",
    "# The testcases in such format\n",
    "# <name>.sy source code\n",
    "# <name>.in input\n",
    "# <name>.out std output\n",
    "\n",
    "# compiler path: ./build/SYSY-compiler\n",
    "# compiler command: ./build/SYSY-compiler <name>.sy\n",
    "# I need you to run the compiler and get the output llvm ir code, which will be put in <name>.ll \n",
    "# If the compiler doesn't end with 0, keep a record of the trouble file name in CE_list\n",
    "# If the compiler ends with 0, run the llvm ir code with lli and get the output, which will be put in <name>.outq\n",
    "# Compare it with the std output <name>.out ,if is't not that same ,keep a record of the trouble file name in WA_list\n",
    "# Remember to redirect the input and output of lli\n",
    "\n",
    "import os\n",
    "import sys\n",
    "import subprocess\n",
    "import filecmp\n",
    "import difflib\n",
    "\n",
    "compiler_path = \"./build/SYSY-compiler\"\n",
    "test_folder=\"./testcases\"\n",
    "\n",
    "pass_args=[\"--mem2reg\"]\n",
    "\n",
    "# grab all the testcases\n",
    "\n",
    "# find files recursively\n",
    "test_list = []\n",
    "for root, dirs, files in os.walk(test_folder):\n",
    "    for file in files:\n",
    "        if file.endswith(\".sy\"):\n",
    "            test_list.append(os.path.join(root, file))\n",
    "\n",
    "CE_list = []\n",
    "LLI_FAIL_list = []\n",
    "WA_list = []\n",
    "AC_list = []\n",
    "TLE_list = []\n",
    "\n",
    "Bad_test = []\n",
    "\n",
    "for test in test_list:\n",
    "    if test.endswith(\".sy\"):\n",
    "        # add test_args to list\n",
    "        compile_args=[compiler_path, test]\n",
    "        for arg in pass_args:\n",
    "            compile_args.append(arg)\n",
    "        ret = subprocess.run(compile_args)\n",
    "        if ret.returncode != 0:\n",
    "            CE_list.append(test)\n",
    "            # print(\"Compiler Error\")\n",
    "            continue\n",
    "        # run lli\n",
    "        ll_file = test+\".ll\"\n",
    "        out_file = test[:-2]+\"out\"\n",
    "        # maybe theres no input file\n",
    "        \n",
    "        if not os.path.exists(test[:-2]+\"in\") and not os.path.exists(out_file):\n",
    "            Bad_test.append(test)\n",
    "            continue\n",
    "        \n",
    "        # Kill program run over 5s, give it a TLE\n",
    "        try:\n",
    "            if not os.path.exists(test[:-2]+\"in\"):\n",
    "                ret = subprocess.run([\"lli\",\"-opaque-pointers\",ll_file], stdout=subprocess.PIPE, stderr=subprocess.PIPE, timeout=5)\n",
    "            else:\n",
    "                ret = subprocess.run([\"lli\",\"-opaque-pointers\",ll_file], stdout=subprocess.PIPE, stderr=subprocess.PIPE, input=open(test[:-2]+\"in\").read().encode(), timeout=5)\n",
    "        except subprocess.TimeoutExpired:\n",
    "            # print(\"Timeout Error\")\n",
    "            TLE_list.append(test)\n",
    "            continue\n",
    "            \n",
    "        # compare the output\n",
    "        # Merge The reture Value and stdout\n",
    "        \n",
    "        dump_str=ret.stdout.decode()\n",
    "        # remove whitesspace in the end\n",
    "        # dump_str=dump_str.rstrip()\n",
    "        if dump_str and not dump_str.endswith('\\n'):\n",
    "            dump_str += \"\\n\"\n",
    "        dump_str += str(ret.returncode) + \"\\n\"\n",
    "        std_output=open(out_file).read()\n",
    "        diff = difflib.unified_diff(dump_str.splitlines(), std_output.splitlines(), lineterm='')\n",
    "        if(len(list(diff))!=0):\n",
    "            # print(\"Wrong Answer\")\n",
    "            WA_list.append(test)\n",
    "            continue\n",
    "        # print(\"Accepted\")\n",
    "        AC_list.append(test)\n",
    "        \n",
    "print(\"Compiler Error: Total: \"+str(len(CE_list)))\n",
    "print(\"Runtime Error: Total: \"+str(len(LLI_FAIL_list)))\n",
    "print(\"Timeout Error: Total: \"+str(len(TLE_list)))\n",
    "print(\"Wrong Answer: Total: \"+str(len(WA_list)))\n",
    "print(\"Bad Test: Total: \"+str(len(Bad_test)))\n",
    "print(\"Accepted: Total: \"+str(len(AC_list)))"
   ]
  },
  {
   "cell_type": "code",
   "execution_count": 20,
   "metadata": {},
   "outputs": [
    {
     "name": "stdout",
     "output_type": "stream",
     "text": [
      "./testcases/85_long_code.sy\n"
     ]
    },
    {
     "name": "stderr",
     "output_type": "stream",
     "text": [
      "cp: cannot stat './testcases/85_long_code.in': No such file or directory\n"
     ]
    }
   ],
   "source": [
    "k=0\n",
    "if len(WA_list) > k:\n",
    "    print(WA_list[k])\n",
    "    # move the file to ./function_test/test.c\n",
    "    os.system(\"cp \"+WA_list[k]+\" ./function_test/test.c\")\n",
    "    os.system(\"cp \"+WA_list[k][:-2]+\"in\"+\" ./function_test/test.in\")\n",
    "    os.system(\"cp \"+WA_list[k][:-2]+\"out\"+\" ./function_test/test.out\")"
   ]
  },
  {
   "cell_type": "code",
   "execution_count": 11,
   "metadata": {},
   "outputs": [
    {
     "name": "stdout",
     "output_type": "stream",
     "text": [
      "./testcases/29_long_line.sy\n"
     ]
    },
    {
     "name": "stderr",
     "output_type": "stream",
     "text": [
      "cp: cannot stat './testcases/29_long_line.in': No such file or directory\n"
     ]
    }
   ],
   "source": [
    "k=0\n",
    "if len(CE_list) > k:\n",
    "    print(CE_list[k])\n",
    "    # move the file to ./function_test/test.c\n",
    "    os.system(\"cp \"+CE_list[k]+\" ./function_test/test.c\")\n",
    "    os.system(\"cp \"+CE_list[k][:-2]+\"in\"+\" ./function_test/test.in\")\n",
    "    os.system(\"cp \"+CE_list[k][:-2]+\"out\"+\" ./function_test/test.out\")"
   ]
  }
 ],
 "metadata": {
  "kernelspec": {
   "display_name": "Python 3",
   "language": "python",
   "name": "python3"
  },
  "language_info": {
   "codemirror_mode": {
    "name": "ipython",
    "version": 3
   },
   "file_extension": ".py",
   "mimetype": "text/x-python",
   "name": "python",
   "nbconvert_exporter": "python",
   "pygments_lexer": "ipython3",
   "version": "3.11.5"
  }
 },
 "nbformat": 4,
 "nbformat_minor": 2
}
